{
  "cells": [
    {
      "cell_type": "markdown",
      "id": "31d9a4c9",
      "metadata": {
        "origin_pos": 0,
        "id": "31d9a4c9"
      },
      "source": [
        "# Using Jupyter Notebooks\n",
        ":label:`sec_jupyter`\n",
        "\n",
        "\n",
        "This section describes how to edit and run the code\n",
        "in each section of this book\n",
        "using the Jupyter Notebook. Make sure you have\n",
        "installed Jupyter and downloaded the\n",
        "code as described in\n",
        ":ref:`chap_installation`.\n",
        "If you want to know more about Jupyter see the excellent tutorial in\n",
        "their [documentation](https://jupyter.readthedocs.io/en/latest/).\n",
        "\n",
        "\n",
        "## Editing and Running the Code Locally\n",
        "\n",
        "Suppose that the local path of the book's code is `xx/yy/d2l-en/`. Use the shell to change the directory to this path (`cd xx/yy/d2l-en`) and run the command `jupyter notebook`. If your browser does not do this automatically, open http://localhost:8888 and you will see the interface of Jupyter and all the folders containing the code of the book, as shown in :numref:`fig_jupyter00`.\n",
        "\n",
        "![The folders containing the code of this book.](https://github.com/d2l-ai/d2l-en-colab/blob/master/img/jupyter00.png?raw=1)\n",
        ":width:`600px`\n",
        ":label:`fig_jupyter00`\n",
        "\n",
        "\n",
        "You can access the notebook files by clicking on the folder displayed on the webpage.\n",
        "They usually have the suffix \".ipynb\".\n",
        "For the sake of brevity, we create a temporary \"test.ipynb\" file.\n",
        "The content displayed after you click it is\n",
        "shown in :numref:`fig_jupyter01`.\n",
        "This notebook includes a markdown cell and a code cell. The content in the markdown cell includes \"This Is a Title\" and \"This is text.\".\n",
        "The code cell contains two lines of Python code.\n",
        "\n",
        "![Markdown and code cells in the \"text.ipynb\" file.](https://github.com/d2l-ai/d2l-en-colab/blob/master/img/jupyter01.png?raw=1)\n",
        ":width:`600px`\n",
        ":label:`fig_jupyter01`\n",
        "\n",
        "\n",
        "Double click on the markdown cell to enter edit mode.\n",
        "Add a new text string \"Hello world.\" at the end of the cell, as shown in :numref:`fig_jupyter02`.\n",
        "\n",
        "![Edit the markdown cell.](https://github.com/d2l-ai/d2l-en-colab/blob/master/img/jupyter02.png?raw=1)\n",
        ":width:`600px`\n",
        ":label:`fig_jupyter02`\n",
        "\n",
        "\n",
        "As demonstrated in :numref:`fig_jupyter03`,\n",
        "click \"Cell\" $\\rightarrow$ \"Run Cells\" in the menu bar to run the edited cell.\n",
        "\n",
        "![Run the cell.](https://github.com/d2l-ai/d2l-en-colab/blob/master/img/jupyter03.png?raw=1)\n",
        ":width:`600px`\n",
        ":label:`fig_jupyter03`\n",
        "\n",
        "After running, the markdown cell is shown in :numref:`fig_jupyter04`.\n",
        "\n",
        "![The markdown cell after running.](https://github.com/d2l-ai/d2l-en-colab/blob/master/img/jupyter04.png?raw=1)\n",
        ":width:`600px`\n",
        ":label:`fig_jupyter04`\n",
        "\n",
        "\n",
        "Next, click on the code cell. Multiply the elements by 2 after the last line of code, as shown in :numref:`fig_jupyter05`.\n",
        "\n",
        "![Edit the code cell.](https://github.com/d2l-ai/d2l-en-colab/blob/master/img/jupyter05.png?raw=1)\n",
        ":width:`600px`\n",
        ":label:`fig_jupyter05`\n",
        "\n",
        "\n",
        "You can also run the cell with a shortcut (\"Ctrl + Enter\" by default) and obtain the output result from :numref:`fig_jupyter06`.\n",
        "\n",
        "![Run the code cell to obtain the output.](https://github.com/d2l-ai/d2l-en-colab/blob/master/img/jupyter06.png?raw=1)\n",
        ":width:`600px`\n",
        ":label:`fig_jupyter06`\n",
        "\n",
        "\n",
        "When a notebook contains more cells, we can click \"Kernel\" $\\rightarrow$ \"Restart & Run All\" in the menu bar to run all the cells in the entire notebook. By clicking \"Help\" $\\rightarrow$ \"Edit Keyboard Shortcuts\" in the menu bar, you can edit the shortcuts according to your preferences.\n",
        "\n",
        "## Advanced Options\n",
        "\n",
        "Beyond local editing two things are quite important: editing the notebooks in the markdown format and running Jupyter remotely.\n",
        "The latter matters when we want to run the code on a faster server.\n",
        "The former matters since Jupyter's native ipynb format stores a lot of auxiliary data that is\n",
        "irrelevant to the content,\n",
        "mostly related to how and where the code is run.\n",
        "This is confusing for Git, making\n",
        "reviewing contributions very difficult.\n",
        "Fortunately there is an alternative---native editing in the markdown format.\n",
        "\n",
        "### Markdown Files in Jupyter\n",
        "\n",
        "If you wish to contribute to the content of this book, you need to modify the\n",
        "source file (md file, not ipynb file) on GitHub.\n",
        "Using the notedown plugin we\n",
        "can modify notebooks in the md format directly in Jupyter.\n",
        "\n",
        "\n",
        "First, install the notedown plugin, run the Jupyter Notebook, and load the plugin:\n",
        "\n",
        "```\n",
        "pip install d2l-notedown  # You may need to uninstall the original notedown.\n",
        "jupyter notebook --NotebookApp.contents_manager_class='notedown.NotedownContentsManager'\n",
        "```\n",
        "\n",
        "You may also turn on the notedown plugin by default whenever you run the Jupyter Notebook.\n",
        "First, generate a Jupyter Notebook configuration file (if it has already been generated, you can skip this step).\n",
        "\n",
        "```\n",
        "jupyter notebook --generate-config\n",
        "```\n",
        "\n",
        "Then, add the following line to the end of the Jupyter Notebook configuration file (for Linux or macOS, usually in the path `~/.jupyter/jupyter_notebook_config.py`):\n",
        "\n",
        "```\n",
        "c.NotebookApp.contents_manager_class = 'notedown.NotedownContentsManager'\n",
        "```\n",
        "\n",
        "After that, you only need to run the `jupyter notebook` command to turn on the notedown plugin by default.\n",
        "\n",
        "### Running Jupyter Notebooks on a Remote Server\n",
        "\n",
        "Sometimes, you may want to run Jupyter notebooks on a remote server and access it through a browser on your local computer. If Linux or macOS is installed on your local machine (Windows can also support this function through third-party software such as PuTTY), you can use port forwarding:\n",
        "\n",
        "```\n",
        "ssh myserver -L 8888:localhost:8888\n",
        "```\n",
        "\n",
        "The above string `myserver` is the address of the remote server.\n",
        "Then we can use http://localhost:8888 to access the remote server `myserver` that runs Jupyter notebooks. We will detail on how to run Jupyter notebooks on AWS instances\n",
        "later in this appendix.\n",
        "\n",
        "### Timing\n",
        "\n",
        "We can use the `ExecuteTime` plugin to time the execution of each code cell in Jupyter notebooks.\n",
        "Use the following commands to install the plugin:\n",
        "\n",
        "```\n",
        "pip install jupyter_contrib_nbextensions\n",
        "jupyter contrib nbextension install --user\n",
        "jupyter nbextension enable execute_time/ExecuteTime\n",
        "```\n",
        "\n",
        "## Summary\n",
        "\n",
        "* Using the Jupyter Notebook tool, we can edit, run, and contribute to each section of the book.\n",
        "* We can run Jupyter notebooks on remote servers using port forwarding.\n",
        "\n",
        "\n",
        "## Exercises\n",
        "\n",
        "1. Edit and run the code in this book with the Jupyter Notebook on your local machine.\n",
        "1. Edit and run the code in this book with the Jupyter Notebook *remotely* via port forwarding.\n",
        "1. Compare the running time of the operations $\\mathbf{A}^\\top \\mathbf{B}$ and $\\mathbf{A} \\mathbf{B}$ for two square matrices in $\\mathbb{R}^{1024 \\times 1024}$. Which one is faster?\n",
        "\n",
        "\n",
        "[Discussions](https://discuss.d2l.ai/t/421)\n"
      ]
    },
    {
      "cell_type": "code",
      "source": [
        "# Install required packages (quiet mode to reduce noise)\n",
        "!pip install qiskit qiskit_aer numpy scipy --quiet"
      ],
      "metadata": {
        "id": "7cfQ4JaDvEGq"
      },
      "id": "7cfQ4JaDvEGq",
      "execution_count": 12,
      "outputs": []
    },
    {
      "cell_type": "code",
      "source": [
        "import numpy as np\n",
        "from qiskit import QuantumCircuit\n",
        "from qiskit_aer import AerSimulator\n",
        "from scipy.optimize import minimize\n",
        "\n",
        "# For reproducibility\n",
        "np.random.seed(42)"
      ],
      "metadata": {
        "id": "kt_CGihKyy7g"
      },
      "id": "kt_CGihKyy7g",
      "execution_count": 13,
      "outputs": []
    },
    {
      "cell_type": "code",
      "source": [
        "def feature_encoding(x: np.ndarray) -> QuantumCircuit:\n",
        "    \"\"\"Encode 2D features into 2 qubits using RY rotations.\"\"\"\n",
        "    qc = QuantumCircuit(len(x))\n",
        "    for i, val in enumerate(x):\n",
        "        qc.ry(val * np.pi, i)  # Scale [0,1] → [0, π]\n",
        "    return qc\n",
        "\n",
        "def ansatz(params: np.ndarray, num_qubits: int) -> QuantumCircuit:\n",
        "    \"\"\"Parameterized ansatz with rotations + entanglement + extra layer.\"\"\"\n",
        "    if len(params) != 2 * num_qubits:\n",
        "        raise ValueError(f\"Expected {2*num_qubits} params, got {len(params)}\")\n",
        "\n",
        "    qc = QuantumCircuit(num_qubits)\n",
        "    # First rotation layer\n",
        "    for i in range(num_qubits):\n",
        "        qc.rx(params[i], i)\n",
        "        qc.rz(params[i + num_qubits], i)\n",
        "    # Entanglement\n",
        "    for i in range(num_qubits - 1):\n",
        "        qc.cx(i, i + 1)\n",
        "    # Second rotation layer (reuse params for simplicity)\n",
        "    for i in range(num_qubits):\n",
        "        qc.rx(params[i], i)\n",
        "    return qc"
      ],
      "metadata": {
        "id": "bTl2MVSjy4e3"
      },
      "id": "bTl2MVSjy4e3",
      "execution_count": 15,
      "outputs": []
    },
    {
      "cell_type": "code",
      "source": [
        "def generate_toy_data(n_samples: int = 50) -> tuple[np.ndarray, np.ndarray]:\n",
        "    \"\"\"Create a linearly separable binary classification dataset.\"\"\"\n",
        "    X = np.random.rand(n_samples, 2)  # Features in [0, 1]\n",
        "    y = (X[:, 0] + X[:, 1] > 1.0).astype(int)  # Label = 1 if sum > 1\n",
        "    return X, y\n",
        "\n",
        "# TODO: Replace this with your hackathon dataset loader!\n",
        "X, y = generate_toy_data(50)\n",
        "print(f\"✅ Generated {len(X)} samples. Label distribution: {np.bincount(y)}\")"
      ],
      "metadata": {
        "id": "py1oQp_ozBEk",
        "outputId": "9094952c-fbcf-4dba-d808-8856f5bb4056",
        "colab": {
          "base_uri": "https://localhost:8080/"
        }
      },
      "id": "py1oQp_ozBEk",
      "execution_count": 16,
      "outputs": [
        {
          "output_type": "stream",
          "name": "stdout",
          "text": [
            "✅ Generated 50 samples. Label distribution: [31 19]\n"
          ]
        }
      ]
    },
    {
      "cell_type": "code",
      "source": [
        "simulator = AerSimulator()\n",
        "\n",
        "def circuit_expectation(x: np.ndarray, params: np.ndarray) -> float:\n",
        "    \"\"\"Run circuit and compute Z⊗Z expectation (parity).\"\"\"\n",
        "    num_qubits = len(x)\n",
        "    qc = feature_encoding(x)\n",
        "    qc.compose(ansatz(params, num_qubits), inplace=True)\n",
        "    qc.measure_all()\n",
        "\n",
        "    # Run on simulator\n",
        "    job = simulator.run(qc, shots=1024)\n",
        "    result = job.result()\n",
        "    counts = result.get_counts()\n",
        "\n",
        "    # Compute <Z⊗Z> = P(even parity) - P(odd parity)\n",
        "    total = sum(counts.values())\n",
        "    exp_val = 0.0\n",
        "    for bitstr, count in counts.items():\n",
        "        parity = (-1) ** (bitstr.count('1'))  # +1 for 00/11, -1 for 01/10\n",
        "        exp_val += parity * (count / total)\n",
        "    return exp_val\n",
        "\n",
        "def loss_function(params: np.ndarray, X: np.ndarray, y: np.ndarray) -> float:\n",
        "    \"\"\"Mean Squared Error between predicted probability and true label.\"\"\"\n",
        "    preds_raw = np.array([circuit_expectation(x, params) for x in X])\n",
        "    preds_prob = (preds_raw + 1) / 2.0  # Map [-1,1] → [0,1]\n",
        "    return np.mean((preds_prob - y) ** 2)"
      ],
      "metadata": {
        "id": "tnl9lnxhzF1O"
      },
      "id": "tnl9lnxhzF1O",
      "execution_count": 17,
      "outputs": []
    },
    {
      "cell_type": "code",
      "source": [
        "def train(X: np.ndarray, y: np.ndarray) -> np.ndarray:\n",
        "    \"\"\"Optimize quantum parameters using L-BFGS-B.\"\"\"\n",
        "    num_qubits = X.shape[1]\n",
        "    init_params = np.random.uniform(-np.pi, np.pi, 2 * num_qubits)\n",
        "\n",
        "    result = minimize(\n",
        "        loss_function,\n",
        "        init_params,\n",
        "        args=(X, y),\n",
        "        method=\"L-BFGS-B\",\n",
        "        options={\"maxiter\": 100}\n",
        "    )\n",
        "    return result.x\n",
        "\n",
        "# Train!\n",
        "print(\"⏳ Training quantum model...\")\n",
        "opt_params = train(X, y)\n",
        "print(\"✅ Training complete!\")"
      ],
      "metadata": {
        "id": "qj-BspKVzJAw",
        "outputId": "80fdb9cc-1304-444b-d35d-4b56cb9a5608",
        "colab": {
          "base_uri": "https://localhost:8080/"
        }
      },
      "id": "qj-BspKVzJAw",
      "execution_count": 18,
      "outputs": [
        {
          "output_type": "stream",
          "name": "stdout",
          "text": [
            "⏳ Training quantum model...\n",
            "✅ Training complete!\n"
          ]
        }
      ]
    },
    {
      "cell_type": "code",
      "source": [
        "# Get predictions\n",
        "preds_raw = np.array([circuit_expectation(x, opt_params) for x in X])\n",
        "preds_prob = (preds_raw + 1) / 2.0\n",
        "preds_class = (preds_prob > 0.5).astype(int)\n",
        "\n",
        "# Compute metrics\n",
        "acc = np.mean(preds_class == y)\n",
        "loss = np.mean((preds_prob - y) ** 2)\n",
        "\n",
        "print(f\"🎯 Final Training Loss: {loss:.4f}\")\n",
        "print(f\"🎯 Training Accuracy: {acc * 100:.2f}%\")\n",
        "\n",
        "# Optional: Show sample predictions\n",
        "print(\"\\n🔍 Sample predictions:\")\n",
        "for i in range(5):\n",
        "    print(f\"  x={X[i]}, y_true={y[i]} → prob={preds_prob[i]:.3f} → y_pred={preds_class[i]}\")"
      ],
      "metadata": {
        "id": "4qcdPdK7zTs8",
        "outputId": "2616c9ea-234c-4c15-f94c-013b59143793",
        "colab": {
          "base_uri": "https://localhost:8080/"
        }
      },
      "id": "4qcdPdK7zTs8",
      "execution_count": 19,
      "outputs": [
        {
          "output_type": "stream",
          "name": "stdout",
          "text": [
            "🎯 Final Training Loss: 0.2827\n",
            "🎯 Training Accuracy: 32.00%\n",
            "\n",
            "🔍 Sample predictions:\n",
            "  x=[0.37454012 0.95071431], y_true=1 → prob=0.396 → y_pred=0\n",
            "  x=[0.73199394 0.59865848], y_true=1 → prob=0.470 → y_pred=0\n",
            "  x=[0.15601864 0.15599452], y_true=0 → prob=0.578 → y_pred=1\n",
            "  x=[0.05808361 0.86617615], y_true=0 → prob=0.379 → y_pred=0\n",
            "  x=[0.60111501 0.70807258], y_true=1 → prob=0.441 → y_pred=0\n"
          ]
        }
      ]
    },
    {
      "cell_type": "code",
      "source": [],
      "metadata": {
        "id": "ojVzNaKizaWL"
      },
      "id": "ojVzNaKizaWL",
      "execution_count": null,
      "outputs": []
    }
  ],
  "metadata": {
    "kernelspec": {
      "display_name": "Python 3",
      "name": "python3"
    },
    "language_info": {
      "name": "python"
    },
    "required_libs": [],
    "colab": {
      "provenance": []
    }
  },
  "nbformat": 4,
  "nbformat_minor": 5
}