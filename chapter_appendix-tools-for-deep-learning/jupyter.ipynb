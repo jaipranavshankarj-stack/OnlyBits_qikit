{
  "cells": [
    {
      "cell_type": "markdown",
      "id": "31d9a4c9",
      "metadata": {
        "origin_pos": 0,
        "id": "31d9a4c9"
      },
      "source": [
        "# Using Jupyter Notebooks\n",
        ":label:`sec_jupyter`\n",
        "\n",
        "\n",
        "This section describes how to edit and run the code\n",
        "in each section of this book\n",
        "using the Jupyter Notebook. Make sure you have\n",
        "installed Jupyter and downloaded the\n",
        "code as described in\n",
        ":ref:`chap_installation`.\n",
        "If you want to know more about Jupyter see the excellent tutorial in\n",
        "their [documentation](https://jupyter.readthedocs.io/en/latest/).\n",
        "\n",
        "\n",
        "## Editing and Running the Code Locally\n",
        "\n",
        "Suppose that the local path of the book's code is `xx/yy/d2l-en/`. Use the shell to change the directory to this path (`cd xx/yy/d2l-en`) and run the command `jupyter notebook`. If your browser does not do this automatically, open http://localhost:8888 and you will see the interface of Jupyter and all the folders containing the code of the book, as shown in :numref:`fig_jupyter00`.\n",
        "\n",
        "![The folders containing the code of this book.](https://github.com/d2l-ai/d2l-en-colab/blob/master/img/jupyter00.png?raw=1)\n",
        ":width:`600px`\n",
        ":label:`fig_jupyter00`\n",
        "\n",
        "\n",
        "You can access the notebook files by clicking on the folder displayed on the webpage.\n",
        "They usually have the suffix \".ipynb\".\n",
        "For the sake of brevity, we create a temporary \"test.ipynb\" file.\n",
        "The content displayed after you click it is\n",
        "shown in :numref:`fig_jupyter01`.\n",
        "This notebook includes a markdown cell and a code cell. The content in the markdown cell includes \"This Is a Title\" and \"This is text.\".\n",
        "The code cell contains two lines of Python code.\n",
        "\n",
        "![Markdown and code cells in the \"text.ipynb\" file.](https://github.com/d2l-ai/d2l-en-colab/blob/master/img/jupyter01.png?raw=1)\n",
        ":width:`600px`\n",
        ":label:`fig_jupyter01`\n",
        "\n",
        "\n",
        "Double click on the markdown cell to enter edit mode.\n",
        "Add a new text string \"Hello world.\" at the end of the cell, as shown in :numref:`fig_jupyter02`.\n",
        "\n",
        "![Edit the markdown cell.](https://github.com/d2l-ai/d2l-en-colab/blob/master/img/jupyter02.png?raw=1)\n",
        ":width:`600px`\n",
        ":label:`fig_jupyter02`\n",
        "\n",
        "\n",
        "As demonstrated in :numref:`fig_jupyter03`,\n",
        "click \"Cell\" $\\rightarrow$ \"Run Cells\" in the menu bar to run the edited cell.\n",
        "\n",
        "![Run the cell.](https://github.com/d2l-ai/d2l-en-colab/blob/master/img/jupyter03.png?raw=1)\n",
        ":width:`600px`\n",
        ":label:`fig_jupyter03`\n",
        "\n",
        "After running, the markdown cell is shown in :numref:`fig_jupyter04`.\n",
        "\n",
        "![The markdown cell after running.](https://github.com/d2l-ai/d2l-en-colab/blob/master/img/jupyter04.png?raw=1)\n",
        ":width:`600px`\n",
        ":label:`fig_jupyter04`\n",
        "\n",
        "\n",
        "Next, click on the code cell. Multiply the elements by 2 after the last line of code, as shown in :numref:`fig_jupyter05`.\n",
        "\n",
        "![Edit the code cell.](https://github.com/d2l-ai/d2l-en-colab/blob/master/img/jupyter05.png?raw=1)\n",
        ":width:`600px`\n",
        ":label:`fig_jupyter05`\n",
        "\n",
        "\n",
        "You can also run the cell with a shortcut (\"Ctrl + Enter\" by default) and obtain the output result from :numref:`fig_jupyter06`.\n",
        "\n",
        "![Run the code cell to obtain the output.](https://github.com/d2l-ai/d2l-en-colab/blob/master/img/jupyter06.png?raw=1)\n",
        ":width:`600px`\n",
        ":label:`fig_jupyter06`\n",
        "\n",
        "\n",
        "When a notebook contains more cells, we can click \"Kernel\" $\\rightarrow$ \"Restart & Run All\" in the menu bar to run all the cells in the entire notebook. By clicking \"Help\" $\\rightarrow$ \"Edit Keyboard Shortcuts\" in the menu bar, you can edit the shortcuts according to your preferences.\n",
        "\n",
        "## Advanced Options\n",
        "\n",
        "Beyond local editing two things are quite important: editing the notebooks in the markdown format and running Jupyter remotely.\n",
        "The latter matters when we want to run the code on a faster server.\n",
        "The former matters since Jupyter's native ipynb format stores a lot of auxiliary data that is\n",
        "irrelevant to the content,\n",
        "mostly related to how and where the code is run.\n",
        "This is confusing for Git, making\n",
        "reviewing contributions very difficult.\n",
        "Fortunately there is an alternative---native editing in the markdown format.\n",
        "\n",
        "### Markdown Files in Jupyter\n",
        "\n",
        "If you wish to contribute to the content of this book, you need to modify the\n",
        "source file (md file, not ipynb file) on GitHub.\n",
        "Using the notedown plugin we\n",
        "can modify notebooks in the md format directly in Jupyter.\n",
        "\n",
        "\n",
        "First, install the notedown plugin, run the Jupyter Notebook, and load the plugin:\n",
        "\n",
        "```\n",
        "pip install d2l-notedown  # You may need to uninstall the original notedown.\n",
        "jupyter notebook --NotebookApp.contents_manager_class='notedown.NotedownContentsManager'\n",
        "```\n",
        "\n",
        "You may also turn on the notedown plugin by default whenever you run the Jupyter Notebook.\n",
        "First, generate a Jupyter Notebook configuration file (if it has already been generated, you can skip this step).\n",
        "\n",
        "```\n",
        "jupyter notebook --generate-config\n",
        "```\n",
        "\n",
        "Then, add the following line to the end of the Jupyter Notebook configuration file (for Linux or macOS, usually in the path `~/.jupyter/jupyter_notebook_config.py`):\n",
        "\n",
        "```\n",
        "c.NotebookApp.contents_manager_class = 'notedown.NotedownContentsManager'\n",
        "```\n",
        "\n",
        "After that, you only need to run the `jupyter notebook` command to turn on the notedown plugin by default.\n",
        "\n",
        "### Running Jupyter Notebooks on a Remote Server\n",
        "\n",
        "Sometimes, you may want to run Jupyter notebooks on a remote server and access it through a browser on your local computer. If Linux or macOS is installed on your local machine (Windows can also support this function through third-party software such as PuTTY), you can use port forwarding:\n",
        "\n",
        "```\n",
        "ssh myserver -L 8888:localhost:8888\n",
        "```\n",
        "\n",
        "The above string `myserver` is the address of the remote server.\n",
        "Then we can use http://localhost:8888 to access the remote server `myserver` that runs Jupyter notebooks. We will detail on how to run Jupyter notebooks on AWS instances\n",
        "later in this appendix.\n",
        "\n",
        "### Timing\n",
        "\n",
        "We can use the `ExecuteTime` plugin to time the execution of each code cell in Jupyter notebooks.\n",
        "Use the following commands to install the plugin:\n",
        "\n",
        "```\n",
        "pip install jupyter_contrib_nbextensions\n",
        "jupyter contrib nbextension install --user\n",
        "jupyter nbextension enable execute_time/ExecuteTime\n",
        "```\n",
        "\n",
        "## Summary\n",
        "\n",
        "* Using the Jupyter Notebook tool, we can edit, run, and contribute to each section of the book.\n",
        "* We can run Jupyter notebooks on remote servers using port forwarding.\n",
        "\n",
        "\n",
        "## Exercises\n",
        "\n",
        "1. Edit and run the code in this book with the Jupyter Notebook on your local machine.\n",
        "1. Edit and run the code in this book with the Jupyter Notebook *remotely* via port forwarding.\n",
        "1. Compare the running time of the operations $\\mathbf{A}^\\top \\mathbf{B}$ and $\\mathbf{A} \\mathbf{B}$ for two square matrices in $\\mathbb{R}^{1024 \\times 1024}$. Which one is faster?\n",
        "\n",
        "\n",
        "[Discussions](https://discuss.d2l.ai/t/421)\n"
      ]
    },
    {
      "cell_type": "code",
      "source": [
        "# Install required packages\n",
        "!pip install qiskit qiskit_aer qiskit.utils numpy scipy matplotlib --quiet\n",
        "\n",
        "# Optional: For real IBM Quantum backends\n",
        "# !pip install qiskit-ibm-runtime --quiet\n",
        "\n"
      ],
      "metadata": {
        "colab": {
          "base_uri": "https://localhost:8080/"
        },
        "id": "K2hiFkmMFyZ3",
        "outputId": "06e9f107-4145-49ba-e689-10887be271d4"
      },
      "id": "K2hiFkmMFyZ3",
      "execution_count": 3,
      "outputs": [
        {
          "output_type": "stream",
          "name": "stdout",
          "text": [
            "  Preparing metadata (setup.py) ... \u001b[?25l\u001b[?25hdone\n",
            "  Building wheel for qiskit.utils (setup.py) ... \u001b[?25l\u001b[?25hdone\n"
          ]
        }
      ]
    },
    {
      "cell_type": "code",
      "source": [
        "import numpy as np\n",
        "from qiskit import QuantumCircuit\n",
        "from qiskit_aer import AerSimulator\n",
        "from scipy.optimize import minimize\n",
        "\n",
        "np.random.seed(42)"
      ],
      "metadata": {
        "id": "-jYAOpHEGvCk"
      },
      "id": "-jYAOpHEGvCk",
      "execution_count": 4,
      "outputs": []
    },
    {
      "cell_type": "code",
      "source": [
        "def feature_encoding(x: np.ndarray) -> QuantumCircuit:\n",
        "    \"\"\"\n",
        "    Encode classical features x into quantum states.\n",
        "    Each feature is represented as a rotation around the Y-axis.\n",
        "    \"\"\"\n",
        "    qc = QuantumCircuit(len(x))\n",
        "    for i, val in enumerate(x):\n",
        "        qc.ry(val * np.pi, i)\n",
        "    return qc\n",
        "\n",
        "\n",
        "def ansatz(params: np.ndarray, num_qubits: int) -> QuantumCircuit:\n",
        "    \"\"\"\n",
        "    Parameterized ansatz (trainable layer of rotations + entanglement).\n",
        "    \"\"\"\n",
        "    qc = QuantumCircuit(num_qubits)\n",
        "    for i in range(num_qubits):\n",
        "        qc.rx(params[i], i)\n",
        "        qc.rz(params[i + num_qubits], i)\n",
        "    for i in range(num_qubits - 1):\n",
        "        qc.cx(i, i + 1)\n",
        "    return qc\n",
        "\n",
        "\n",
        "def build_full_circuit(x: np.ndarray, params: np.ndarray) -> QuantumCircuit:\n",
        "    \"\"\"Combine encoding + ansatz circuits.\"\"\"\n",
        "    num_qubits = len(x)\n",
        "    qc = feature_encoding(x)\n",
        "    qc.compose(ansatz(params, num_qubits), inplace=True)\n",
        "    qc.measure_all()\n",
        "    return qc\n"
      ],
      "metadata": {
        "id": "moTI4nwHIlg6"
      },
      "id": "moTI4nwHIlg6",
      "execution_count": 5,
      "outputs": []
    },
    {
      "cell_type": "code",
      "source": [
        "def generate_toy_data(n_samples: int = 10) -> tuple[np.ndarray, np.ndarray]:\n",
        "    \"\"\"\n",
        "    Create a simple binary classification dataset for demo.\n",
        "    \"\"\"\n",
        "    X = np.random.rand(n_samples, 2)\n",
        "    y = (X[:, 0] > X[:, 1]).astype(int)\n",
        "    return X, y\n",
        "\n",
        "\n",
        "# TODO: Replace generate_toy_data() with your hackathon dataset loader\n"
      ],
      "metadata": {
        "id": "A39KNgmSIwCL"
      },
      "id": "A39KNgmSIwCL",
      "execution_count": 6,
      "outputs": []
    },
    {
      "cell_type": "code",
      "source": [
        "simulator = AerSimulator()\n",
        "\n",
        "from qiskit.quantum_info import SparsePauliOp\n",
        "\n",
        "def circuit_expectation(x: np.ndarray, params: np.ndarray) -> float:\n",
        "    \"\"\"\n",
        "    Evaluate expectation value (proxy for class prediction).\n",
        "    \"\"\"\n",
        "    qc = feature_encoding(x)\n",
        "    qc.compose(ansatz(params, len(x)), inplace=True)\n",
        "    # Use SparsePauliOp for the \"Z\" operator\n",
        "    qc.save_expectation_value(SparsePauliOp(\"Z\", [0]), [0])\n",
        "    result = simulator.run(qc).result()\n",
        "    exp_val = result.data(0)[\"expectation_value\"]\n",
        "    return exp_val\n",
        "\n",
        "\n",
        "def loss_function(params: np.ndarray, X: np.ndarray, y: np.ndarray) -> float:\n",
        "    \"\"\"Mean-squared-error loss.\"\"\"\n",
        "    preds = np.array([circuit_expectation(x, params) for x in X])\n",
        "    return np.mean((preds - y) ** 2)\n",
        "\n",
        "\n",
        "def train(X: np.ndarray, y: np.ndarray, lr: float = 0.1) -> np.ndarray:\n",
        "    \"\"\"\n",
        "    Optimize parameters via classical minimization.\n",
        "    \"\"\"\n",
        "    init_params = np.random.rand(4)  # 2 qubits → 2*2 params\n",
        "    res = minimize(loss_function, init_params, args=(X, y), method=\"COBYLA\")\n",
        "    return res.x"
      ],
      "metadata": {
        "id": "YoOG77eKIylq"
      },
      "id": "YoOG77eKIylq",
      "execution_count": 7,
      "outputs": []
    },
    {
      "cell_type": "code",
      "source": [
        "from qiskit.quantum_info import Pauli, Statevector\n",
        "\n",
        "def circuit_expectation(x: np.ndarray, params: np.ndarray) -> float:\n",
        "    \"\"\"\n",
        "    Evaluate the expectation value of Z on the first qubit\n",
        "    after encoding + ansatz using AerSimulator statevector.\n",
        "    \"\"\"\n",
        "    num_qubits = len(x)\n",
        "    qc = feature_encoding(x)\n",
        "    qc.compose(ansatz(params, num_qubits), inplace=True)\n",
        "\n",
        "    # Save statevector for simulator\n",
        "    qc.save_statevector()\n",
        "\n",
        "    # Run and extract Statevector object\n",
        "    result = simulator.run(qc).result()\n",
        "    statevector = Statevector(result.data(0)[\"statevector\"])\n",
        "\n",
        "    # Observable: Pauli Z on the first qubit\n",
        "    obs = Pauli(\"Z\" + \"I\" * (num_qubits - 1))\n",
        "\n",
        "    # Compute expectation directly\n",
        "    exp_val = np.real(statevector.expectation_value(obs))\n",
        "    return exp_val\n",
        "\n",
        "\n",
        "def loss_function(params: np.ndarray, X: np.ndarray, y: np.ndarray) -> float:\n",
        "    \"\"\"Mean Squared Error between quantum predictions and true labels.\"\"\"\n",
        "    preds = np.array([circuit_expectation(x, params) for x in X])\n",
        "    return np.mean((preds - y) ** 2)\n",
        "\n",
        "\n",
        "def train(X: np.ndarray, y: np.ndarray, lr: float = 0.1) -> np.ndarray:\n",
        "    \"\"\"\n",
        "    Optimize parameters using classical minimization (COBYLA).\n",
        "    \"\"\"\n",
        "    init_params = np.random.rand(4)  # for 2 qubits → 4 parameters\n",
        "    res = minimize(loss_function, init_params, args=(X, y), method=\"COBYLA\")\n",
        "    return res.x\n"
      ],
      "metadata": {
        "id": "FzIGgHLtI7m3"
      },
      "id": "FzIGgHLtI7m3",
      "execution_count": 10,
      "outputs": []
    },
    {
      "cell_type": "code",
      "source": [
        "!pip install qiskit qiskit-aer numpy scipy matplotlib --quiet\n"
      ],
      "metadata": {
        "id": "ouR9nWVil6sg",
        "outputId": "cb9ced99-378c-4e0c-9103-c9f6a6ec1538",
        "colab": {
          "base_uri": "https://localhost:8080/"
        }
      },
      "id": "ouR9nWVil6sg",
      "execution_count": 2,
      "outputs": [
        {
          "output_type": "stream",
          "name": "stdout",
          "text": [
            "\u001b[2K   \u001b[90m━━━━━━━━━━━━━━━━━━━━━━━━━━━━━━━━━━━━━━━━\u001b[0m \u001b[32m8.0/8.0 MB\u001b[0m \u001b[31m73.5 MB/s\u001b[0m eta \u001b[36m0:00:00\u001b[0m\n",
            "\u001b[2K   \u001b[90m━━━━━━━━━━━━━━━━━━━━━━━━━━━━━━━━━━━━━━━━\u001b[0m \u001b[32m12.4/12.4 MB\u001b[0m \u001b[31m140.3 MB/s\u001b[0m eta \u001b[36m0:00:00\u001b[0m\n",
            "\u001b[2K   \u001b[90m━━━━━━━━━━━━━━━━━━━━━━━━━━━━━━━━━━━━━━━━\u001b[0m \u001b[32m2.2/2.2 MB\u001b[0m \u001b[31m58.2 MB/s\u001b[0m eta \u001b[36m0:00:00\u001b[0m\n",
            "\u001b[2K   \u001b[90m━━━━━━━━━━━━━━━━━━━━━━━━━━━━━━━━━━━━━━━━\u001b[0m \u001b[32m49.5/49.5 kB\u001b[0m \u001b[31m3.7 MB/s\u001b[0m eta \u001b[36m0:00:00\u001b[0m\n",
            "\u001b[?25h"
          ]
        }
      ]
    },
    {
      "cell_type": "code",
      "source": [
        "# === MAIN TRAINING FLOW ===\n",
        "\n",
        "# 1. Load data\n",
        "X, y = generate_toy_data(8)\n",
        "\n",
        "# 2. Train\n",
        "opt_params = train(X, y)\n",
        "print(\"Optimized parameters:\", opt_params)\n",
        "\n",
        "# 3. Evaluate\n",
        "preds = np.array([circuit_expectation(x, opt_params) for x in X])\n",
        "acc = np.mean((preds.round() == y))\n",
        "loss = np.mean((preds - y) ** 2)\n",
        "\n",
        "print(f\"Final Training Loss: {loss:.4f}\")\n",
        "print(f\"Training Accuracy: {acc*100:.2f}%\")\n"
      ],
      "metadata": {
        "colab": {
          "base_uri": "https://localhost:8080/"
        },
        "id": "tBMpJWLgI_S_",
        "outputId": "4cd2d0f3-e58b-431b-ea15-8cb18bee566e"
      },
      "id": "tBMpJWLgI_S_",
      "execution_count": 11,
      "outputs": [
        {
          "output_type": "stream",
          "name": "stdout",
          "text": [
            "Optimized parameters: [1.27036206 1.67647507 0.68388887 0.43514195]\n",
            "Final Training Loss: 0.4998\n",
            "Training Accuracy: 50.00%\n"
          ]
        }
      ]
    },
    {
      "cell_type": "code",
      "source": [],
      "metadata": {
        "id": "HZ8DrmGUKeTT"
      },
      "id": "HZ8DrmGUKeTT",
      "execution_count": null,
      "outputs": []
    }
  ],
  "metadata": {
    "kernelspec": {
      "display_name": "Python 3",
      "name": "python3"
    },
    "language_info": {
      "name": "python"
    },
    "required_libs": [],
    "colab": {
      "provenance": []
    }
  },
  "nbformat": 4,
  "nbformat_minor": 5
}